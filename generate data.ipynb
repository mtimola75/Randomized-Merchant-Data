{
 "metadata": {
  "language_info": {
   "codemirror_mode": {
    "name": "ipython",
    "version": 3
   },
   "file_extension": ".py",
   "mimetype": "text/x-python",
   "name": "python",
   "nbconvert_exporter": "python",
   "pygments_lexer": "ipython3",
   "version": "3.8.2"
  },
  "orig_nbformat": 2,
  "kernelspec": {
   "name": "python3",
   "display_name": "Python 3.8.2 64-bit (conda)"
  },
  "interpreter": {
   "hash": "22d884786c17cd8b8732407e39d01d0f2488241cad937e735144e8152452878b"
  }
 },
 "nbformat": 4,
 "nbformat_minor": 2,
 "cells": [
  {
   "cell_type": "code",
   "execution_count": 1,
   "metadata": {},
   "outputs": [],
   "source": [
    "import random\n",
    "import numpy as np\n",
    "import pandas as pd\n",
    "from datetime import datetime\n",
    "\n",
    "# Utilities, groceries, service stations\n",
    "utilities = [\"Groceries\", \"Apartment Things\", \"Car Things\", \"Recreational Drugs\"]\n",
    "# Restaurants\n",
    "restaurants = [\"$ Restaurant\", \"$$ Restaurant\", \"$$$ Restaurant\", \"Fine Dining\"]\n",
    "# Shopping\n",
    "shopping = [\"$ Clothes\", \"$$ Clothes\", \"$$$ Clothes\", \"Designer Clothes\"]\n",
    "# Entertainment\n",
    "entertainment = [\"Bar\", \"EDM Show\", \"Other Concert\", \"Movies\", \"Video Game Purchase\", \"Toys\"]\n",
    "# Health\n",
    "health = [\"General Doctor\", \"Eye Doctor\", \"Pharmacy Prescriptions\", \"Nail Appt\", \"Hair Salon\"]\n",
    "# Travel\n",
    "travel = [\"Gas\", \"Plane Ticket\", \"Hotel Visit\", \"Motel Visit\", \"Car Rental\"]\n",
    "\n",
    "merchantTags = [utilities, restaurants, shopping, entertainment, health, travel]"
   ]
  },
  {
   "cell_type": "code",
   "execution_count": 60,
   "metadata": {},
   "outputs": [],
   "source": [
    "#          31,  28,  31,  30,  31,  30,  31,  31,  30,   31,   30,  31\n",
    "months = [\"1\", \"2\", \"3\", \"4\", \"5\", \"6\", \"7\", \"8\", \"9\", \"10\", \"11\", \"12\"]\n",
    "\n",
    "def buildDate(month):\n",
    "    feb = [*range(1, 29)]\n",
    "    thirtyDays = [*range(1, 31)]\n",
    "    thirtyOneDays = [*range(1, 32)]\n",
    "    retDay = 0\n",
    "\n",
    "    if(month == \"4\" or month == \"6\" or month == \"9\" or month == \"11\"):\n",
    "        retDay = random.choice(thirtyDays)\n",
    "    elif(month == \"2\"):\n",
    "        retDay = random.choice(feb)\n",
    "    else:\n",
    "        retDay = random.choice(thirtyOneDays)\n",
    "    \n",
    "    Str = month + \"/\" + str(retDay) + \"/2021\"  # build time string\n",
    "    dtObj = datetime.strptime(Str, \"%m/%d/%Y\")  # build datetime object to sort correctly\n",
    "    return dtObj.strftime(\"%m/%d/%Y\")\n",
    "\n",
    "def buildPurchase():\n",
    "    tag = random.choice(merchantTags)\n",
    "    #TODO: Add tag category?\n",
    "    choice = random.choice(tag)\n",
    "    return choice\n",
    "\n",
    "def buildCategory(tag):\n",
    "    #tag = random.choice(merchantTags)\n",
    "    if tag in travel:\n",
    "        return \"Travel\" \n",
    "    elif tag in health:\n",
    "        return \"Health\"\n",
    "    elif tag in entertainment:\n",
    "        return \"Entertainment\" \n",
    "    elif tag in shopping:\n",
    "        return \"Shopping\" \n",
    "    elif tag in restaurants:\n",
    "        return \"Dining\" \n",
    "    elif tag in utilities:\n",
    "        return \"Utilities & Living\""
   ]
  },
  {
   "cell_type": "code",
   "execution_count": 61,
   "metadata": {},
   "outputs": [
    {
     "output_type": "error",
     "ename": "SyntaxError",
     "evalue": "invalid syntax (<ipython-input-61-965218375370>, line 2)",
     "traceback": [
      "\u001b[0;36m  File \u001b[0;32m\"<ipython-input-61-965218375370>\"\u001b[0;36m, line \u001b[0;32m2\u001b[0m\n\u001b[0;31m    if\u001b[0m\n\u001b[0m      ^\u001b[0m\n\u001b[0;31mSyntaxError\u001b[0m\u001b[0;31m:\u001b[0m invalid syntax\n"
     ]
    }
   ],
   "source": [
    "def buildPrice(tag, category):\n",
    "    if\n",
    "\n",
    "buildPrice(\"$ Restaurant\")"
   ]
  },
  {
   "cell_type": "code",
   "execution_count": 62,
   "metadata": {
    "tags": []
   },
   "outputs": [
    {
     "output_type": "stream",
     "name": "stdout",
     "text": [
      "1  purchases:  142\n2  purchases:  152\n3  purchases:  51\n4  purchases:  191\n5  purchases:  61\n6  purchases:  87\n7  purchases:  129\n8  purchases:  79\n9  purchases:  80\n10  purchases:  149\n11  purchases:  64\n12  purchases:  98\n12\n142\n"
     ]
    }
   ],
   "source": [
    "allYearPurchases = []\n",
    "\n",
    "# Populate monthly purchases\n",
    "for month in months:\n",
    "    # generate a random number of purchases for that month\n",
    "    numPurchases = random.randint(50, 200)\n",
    "    print(month, \" purchases: \", numPurchases)\n",
    "    monthlyPurchases = []\n",
    "    # generate purchases from 0 to numPurchases\n",
    "    for purchase in range(numPurchases):\n",
    "        # NOTE: This is where one whole row of data is created\n",
    "        purchase = buildPurchase()\n",
    "        category = buildCategory(purchase)\n",
    "        # TODO: buildPrice() which uses the category, and MAYBE the tag?\n",
    "\n",
    "\n",
    "        monthlyPurchases.append([buildDate(month), purchase, category])\n",
    "\n",
    "    # append the purchases for the current month into the one giant list for the year\n",
    "    allYearPurchases.append(monthlyPurchases)\n",
    "\n",
    "print(len(allYearPurchases))\n",
    "print(len(allYearPurchases[0]))\n",
    "\n",
    "\n",
    "\n",
    "\n",
    "    "
   ]
  },
  {
   "cell_type": "code",
   "execution_count": 63,
   "metadata": {},
   "outputs": [
    {
     "output_type": "execute_result",
     "data": {
      "text/plain": [
       "          Date                Purchase            Category\n",
       "0   01/06/2021              Car Things  Utilities & Living\n",
       "1   01/06/2021            $ Restaurant              Dining\n",
       "2   01/05/2021              Car Things  Utilities & Living\n",
       "3   01/04/2021  Pharmacy Prescriptions              Health\n",
       "4   01/23/2021               Groceries  Utilities & Living\n",
       "5   01/14/2021             Motel Visit              Travel\n",
       "6   01/20/2021                EDM Show       Entertainment\n",
       "7   01/06/2021              Car Things  Utilities & Living\n",
       "8   01/30/2021               Groceries  Utilities & Living\n",
       "9   01/18/2021               $ Clothes            Shopping\n",
       "10  01/16/2021        Apartment Things  Utilities & Living\n",
       "11  01/08/2021  Pharmacy Prescriptions              Health\n",
       "12  01/26/2021        Designer Clothes            Shopping\n",
       "13  01/23/2021        Apartment Things  Utilities & Living\n",
       "14  01/21/2021     Video Game Purchase       Entertainment\n",
       "15  01/31/2021              Eye Doctor              Health\n",
       "16  01/09/2021      Recreational Drugs  Utilities & Living\n",
       "17  01/06/2021               $ Clothes            Shopping\n",
       "18  01/26/2021            Plane Ticket              Travel\n",
       "19  01/23/2021            Plane Ticket              Travel\n",
       "20  01/27/2021      Recreational Drugs  Utilities & Living\n",
       "21  01/19/2021            Plane Ticket              Travel\n",
       "22  01/26/2021                    Toys       Entertainment\n",
       "23  01/10/2021            Plane Ticket              Travel\n",
       "24  01/15/2021              Car Things  Utilities & Living\n",
       "25  01/22/2021             $$$ Clothes            Shopping\n",
       "26  01/09/2021             $$$ Clothes            Shopping\n",
       "27  01/17/2021              $$ Clothes            Shopping\n",
       "28  01/25/2021             Motel Visit              Travel\n",
       "29  01/26/2021  Pharmacy Prescriptions              Health\n",
       "30  01/22/2021          $$$ Restaurant              Dining\n",
       "31  01/13/2021              Car Things  Utilities & Living\n",
       "32  01/08/2021              Hair Salon              Health\n",
       "33  01/12/2021                     Bar       Entertainment\n",
       "34  01/30/2021        Apartment Things  Utilities & Living\n",
       "35  01/13/2021                EDM Show       Entertainment\n",
       "36  01/05/2021              Car Rental              Travel\n",
       "37  01/27/2021                EDM Show       Entertainment\n",
       "38  01/30/2021           Other Concert       Entertainment\n",
       "39  01/06/2021            Plane Ticket              Travel\n",
       "40  01/08/2021              Eye Doctor              Health\n",
       "41  01/03/2021           Other Concert       Entertainment\n",
       "42  01/06/2021               $ Clothes            Shopping\n",
       "43  01/31/2021                    Toys       Entertainment\n",
       "44  01/13/2021                     Bar       Entertainment\n",
       "45  01/16/2021          General Doctor              Health\n",
       "46  01/24/2021              Eye Doctor              Health\n",
       "47  01/05/2021      Recreational Drugs  Utilities & Living\n",
       "48  01/11/2021                EDM Show       Entertainment\n",
       "49  01/20/2021                  Movies       Entertainment"
      ],
      "text/html": "<div>\n<style scoped>\n    .dataframe tbody tr th:only-of-type {\n        vertical-align: middle;\n    }\n\n    .dataframe tbody tr th {\n        vertical-align: top;\n    }\n\n    .dataframe thead th {\n        text-align: right;\n    }\n</style>\n<table border=\"1\" class=\"dataframe\">\n  <thead>\n    <tr style=\"text-align: right;\">\n      <th></th>\n      <th>Date</th>\n      <th>Purchase</th>\n      <th>Category</th>\n    </tr>\n  </thead>\n  <tbody>\n    <tr>\n      <th>0</th>\n      <td>01/06/2021</td>\n      <td>Car Things</td>\n      <td>Utilities &amp; Living</td>\n    </tr>\n    <tr>\n      <th>1</th>\n      <td>01/06/2021</td>\n      <td>$ Restaurant</td>\n      <td>Dining</td>\n    </tr>\n    <tr>\n      <th>2</th>\n      <td>01/05/2021</td>\n      <td>Car Things</td>\n      <td>Utilities &amp; Living</td>\n    </tr>\n    <tr>\n      <th>3</th>\n      <td>01/04/2021</td>\n      <td>Pharmacy Prescriptions</td>\n      <td>Health</td>\n    </tr>\n    <tr>\n      <th>4</th>\n      <td>01/23/2021</td>\n      <td>Groceries</td>\n      <td>Utilities &amp; Living</td>\n    </tr>\n    <tr>\n      <th>5</th>\n      <td>01/14/2021</td>\n      <td>Motel Visit</td>\n      <td>Travel</td>\n    </tr>\n    <tr>\n      <th>6</th>\n      <td>01/20/2021</td>\n      <td>EDM Show</td>\n      <td>Entertainment</td>\n    </tr>\n    <tr>\n      <th>7</th>\n      <td>01/06/2021</td>\n      <td>Car Things</td>\n      <td>Utilities &amp; Living</td>\n    </tr>\n    <tr>\n      <th>8</th>\n      <td>01/30/2021</td>\n      <td>Groceries</td>\n      <td>Utilities &amp; Living</td>\n    </tr>\n    <tr>\n      <th>9</th>\n      <td>01/18/2021</td>\n      <td>$ Clothes</td>\n      <td>Shopping</td>\n    </tr>\n    <tr>\n      <th>10</th>\n      <td>01/16/2021</td>\n      <td>Apartment Things</td>\n      <td>Utilities &amp; Living</td>\n    </tr>\n    <tr>\n      <th>11</th>\n      <td>01/08/2021</td>\n      <td>Pharmacy Prescriptions</td>\n      <td>Health</td>\n    </tr>\n    <tr>\n      <th>12</th>\n      <td>01/26/2021</td>\n      <td>Designer Clothes</td>\n      <td>Shopping</td>\n    </tr>\n    <tr>\n      <th>13</th>\n      <td>01/23/2021</td>\n      <td>Apartment Things</td>\n      <td>Utilities &amp; Living</td>\n    </tr>\n    <tr>\n      <th>14</th>\n      <td>01/21/2021</td>\n      <td>Video Game Purchase</td>\n      <td>Entertainment</td>\n    </tr>\n    <tr>\n      <th>15</th>\n      <td>01/31/2021</td>\n      <td>Eye Doctor</td>\n      <td>Health</td>\n    </tr>\n    <tr>\n      <th>16</th>\n      <td>01/09/2021</td>\n      <td>Recreational Drugs</td>\n      <td>Utilities &amp; Living</td>\n    </tr>\n    <tr>\n      <th>17</th>\n      <td>01/06/2021</td>\n      <td>$ Clothes</td>\n      <td>Shopping</td>\n    </tr>\n    <tr>\n      <th>18</th>\n      <td>01/26/2021</td>\n      <td>Plane Ticket</td>\n      <td>Travel</td>\n    </tr>\n    <tr>\n      <th>19</th>\n      <td>01/23/2021</td>\n      <td>Plane Ticket</td>\n      <td>Travel</td>\n    </tr>\n    <tr>\n      <th>20</th>\n      <td>01/27/2021</td>\n      <td>Recreational Drugs</td>\n      <td>Utilities &amp; Living</td>\n    </tr>\n    <tr>\n      <th>21</th>\n      <td>01/19/2021</td>\n      <td>Plane Ticket</td>\n      <td>Travel</td>\n    </tr>\n    <tr>\n      <th>22</th>\n      <td>01/26/2021</td>\n      <td>Toys</td>\n      <td>Entertainment</td>\n    </tr>\n    <tr>\n      <th>23</th>\n      <td>01/10/2021</td>\n      <td>Plane Ticket</td>\n      <td>Travel</td>\n    </tr>\n    <tr>\n      <th>24</th>\n      <td>01/15/2021</td>\n      <td>Car Things</td>\n      <td>Utilities &amp; Living</td>\n    </tr>\n    <tr>\n      <th>25</th>\n      <td>01/22/2021</td>\n      <td>$$$ Clothes</td>\n      <td>Shopping</td>\n    </tr>\n    <tr>\n      <th>26</th>\n      <td>01/09/2021</td>\n      <td>$$$ Clothes</td>\n      <td>Shopping</td>\n    </tr>\n    <tr>\n      <th>27</th>\n      <td>01/17/2021</td>\n      <td>$$ Clothes</td>\n      <td>Shopping</td>\n    </tr>\n    <tr>\n      <th>28</th>\n      <td>01/25/2021</td>\n      <td>Motel Visit</td>\n      <td>Travel</td>\n    </tr>\n    <tr>\n      <th>29</th>\n      <td>01/26/2021</td>\n      <td>Pharmacy Prescriptions</td>\n      <td>Health</td>\n    </tr>\n    <tr>\n      <th>30</th>\n      <td>01/22/2021</td>\n      <td>$$$ Restaurant</td>\n      <td>Dining</td>\n    </tr>\n    <tr>\n      <th>31</th>\n      <td>01/13/2021</td>\n      <td>Car Things</td>\n      <td>Utilities &amp; Living</td>\n    </tr>\n    <tr>\n      <th>32</th>\n      <td>01/08/2021</td>\n      <td>Hair Salon</td>\n      <td>Health</td>\n    </tr>\n    <tr>\n      <th>33</th>\n      <td>01/12/2021</td>\n      <td>Bar</td>\n      <td>Entertainment</td>\n    </tr>\n    <tr>\n      <th>34</th>\n      <td>01/30/2021</td>\n      <td>Apartment Things</td>\n      <td>Utilities &amp; Living</td>\n    </tr>\n    <tr>\n      <th>35</th>\n      <td>01/13/2021</td>\n      <td>EDM Show</td>\n      <td>Entertainment</td>\n    </tr>\n    <tr>\n      <th>36</th>\n      <td>01/05/2021</td>\n      <td>Car Rental</td>\n      <td>Travel</td>\n    </tr>\n    <tr>\n      <th>37</th>\n      <td>01/27/2021</td>\n      <td>EDM Show</td>\n      <td>Entertainment</td>\n    </tr>\n    <tr>\n      <th>38</th>\n      <td>01/30/2021</td>\n      <td>Other Concert</td>\n      <td>Entertainment</td>\n    </tr>\n    <tr>\n      <th>39</th>\n      <td>01/06/2021</td>\n      <td>Plane Ticket</td>\n      <td>Travel</td>\n    </tr>\n    <tr>\n      <th>40</th>\n      <td>01/08/2021</td>\n      <td>Eye Doctor</td>\n      <td>Health</td>\n    </tr>\n    <tr>\n      <th>41</th>\n      <td>01/03/2021</td>\n      <td>Other Concert</td>\n      <td>Entertainment</td>\n    </tr>\n    <tr>\n      <th>42</th>\n      <td>01/06/2021</td>\n      <td>$ Clothes</td>\n      <td>Shopping</td>\n    </tr>\n    <tr>\n      <th>43</th>\n      <td>01/31/2021</td>\n      <td>Toys</td>\n      <td>Entertainment</td>\n    </tr>\n    <tr>\n      <th>44</th>\n      <td>01/13/2021</td>\n      <td>Bar</td>\n      <td>Entertainment</td>\n    </tr>\n    <tr>\n      <th>45</th>\n      <td>01/16/2021</td>\n      <td>General Doctor</td>\n      <td>Health</td>\n    </tr>\n    <tr>\n      <th>46</th>\n      <td>01/24/2021</td>\n      <td>Eye Doctor</td>\n      <td>Health</td>\n    </tr>\n    <tr>\n      <th>47</th>\n      <td>01/05/2021</td>\n      <td>Recreational Drugs</td>\n      <td>Utilities &amp; Living</td>\n    </tr>\n    <tr>\n      <th>48</th>\n      <td>01/11/2021</td>\n      <td>EDM Show</td>\n      <td>Entertainment</td>\n    </tr>\n    <tr>\n      <th>49</th>\n      <td>01/20/2021</td>\n      <td>Movies</td>\n      <td>Entertainment</td>\n    </tr>\n  </tbody>\n</table>\n</div>"
     },
     "metadata": {},
     "execution_count": 63
    }
   ],
   "source": [
    "flatten = [j for sub in allYearPurchases for j in sub]\n",
    "flatten_df = pd.DataFrame(flatten, columns = ['Date', 'Purchase', 'Category'])\n",
    "flatten_df.head(50)"
   ]
  },
  {
   "cell_type": "code",
   "execution_count": null,
   "metadata": {},
   "outputs": [],
   "source": []
  },
  {
   "cell_type": "code",
   "execution_count": null,
   "metadata": {},
   "outputs": [],
   "source": []
  }
 ]
}