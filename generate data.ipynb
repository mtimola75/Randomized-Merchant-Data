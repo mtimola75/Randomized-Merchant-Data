{
 "metadata": {
  "language_info": {
   "codemirror_mode": {
    "name": "ipython",
    "version": 3
   },
   "file_extension": ".py",
   "mimetype": "text/x-python",
   "name": "python",
   "nbconvert_exporter": "python",
   "pygments_lexer": "ipython3",
   "version": "3.8.2"
  },
  "orig_nbformat": 2,
  "kernelspec": {
   "name": "python3",
   "display_name": "Python 3.8.2 64-bit (conda)"
  },
  "interpreter": {
   "hash": "22d884786c17cd8b8732407e39d01d0f2488241cad937e735144e8152452878b"
  }
 },
 "nbformat": 4,
 "nbformat_minor": 2,
 "cells": [
  {
   "cell_type": "code",
   "execution_count": 1,
   "metadata": {},
   "outputs": [],
   "source": [
    "import random\n",
    "import numpy as np\n",
    "import pandas as pd\n",
    "from datetime import datetime\n",
    "\n",
    "# Utilities, groceries, service stations\n",
    "utilities = [\"Groceries\", \"Apartment Things\", \"Car Things\", \"Recreational Drugs\"]\n",
    "# Restaurants\n",
    "restaurants = [\"$ Restaurant\", \"$$ Restaurant\", \"$$$ Restaurant\", \"Fine Dining\"]\n",
    "# Shopping\n",
    "shopping = [\"$ Clothes\", \"$$ Clothes\", \"$$$ Clothes\", \"Designer Clothes\"]\n",
    "# Entertainment\n",
    "entertainment = [\"Bar\", \"EDM Show\", \"Other Concert\", \"Movies\", \"Video Game Purchase\", \"Toys\"]\n",
    "# Health\n",
    "health = [\"General Doctor\", \"Eye Doctor\", \"Pharmacy Prescriptions\", \"Nail Appt\", \"Hair Salon\"]\n",
    "# Travel\n",
    "travel = [\"Gas\", \"Plane Ticket\", \"Hotel Visit\", \"Motel Visit\", \"Car Rental\"]\n",
    "\n",
    "merchantTags = [utilities, restaurants, shopping, entertainment, health, travel]"
   ]
  },
  {
   "cell_type": "code",
   "execution_count": 60,
   "metadata": {},
   "outputs": [],
   "source": [
    "#          31,  28,  31,  30,  31,  30,  31,  31,  30,   31,   30,  31\n",
    "months = [\"1\", \"2\", \"3\", \"4\", \"5\", \"6\", \"7\", \"8\", \"9\", \"10\", \"11\", \"12\"]\n",
    "\n",
    "def buildDate(month):\n",
    "    feb = [*range(1, 29)]\n",
    "    thirtyDays = [*range(1, 31)]\n",
    "    thirtyOneDays = [*range(1, 32)]\n",
    "    retDay = 0\n",
    "\n",
    "    if(month == \"4\" or month == \"6\" or month == \"9\" or month == \"11\"):\n",
    "        retDay = random.choice(thirtyDays)\n",
    "    elif(month == \"2\"):\n",
    "        retDay = random.choice(feb)\n",
    "    else:\n",
    "        retDay = random.choice(thirtyOneDays)\n",
    "    \n",
    "    Str = month + \"/\" + str(retDay) + \"/2021\"  # build time string\n",
    "    dtObj = datetime.strptime(Str, \"%m/%d/%Y\")  # build datetime object to sort correctly\n",
    "    return dtObj.strftime(\"%m/%d/%Y\")\n",
    "\n",
    "def buildPurchase():\n",
    "    tag = random.choice(merchantTags)\n",
    "    #TODO: Add tag category?\n",
    "    choice = random.choice(tag)\n",
    "    return choice\n",
    "\n",
    "def buildCategory(tag):\n",
    "    #tag = random.choice(merchantTags)\n",
    "    if tag in travel:\n",
    "        return \"Travel\" \n",
    "    elif tag in health:\n",
    "        return \"Health\"\n",
    "    elif tag in entertainment:\n",
    "        return \"Entertainment\" \n",
    "    elif tag in shopping:\n",
    "        return \"Shopping\" \n",
    "    elif tag in restaurants:\n",
    "        return \"Dining\" \n",
    "    elif tag in utilities:\n",
    "        return \"Utilities & Living\""
   ]
  },
  {
   "cell_type": "code",
   "execution_count": 76,
   "metadata": {},
   "outputs": [
    {
     "output_type": "stream",
     "name": "stdout",
     "text": [
      "$$$ Clothes\nShopping\n92\n"
     ]
    }
   ],
   "source": [
    "def buildPrice(purchase, category):\n",
    "    if  purchase == \"$ Restaurant\" or purchase == \"$ Clothes\":\n",
    "        return random.randint(5, 25)\n",
    "    elif purchase == \"$$ Restaurant\" or purchase == \"$$ Clothes\":\n",
    "        return random.randint(26, 50)\n",
    "    elif purchase == \"$$$ Restaurant\" or purchase == \"$$$ Clothes\":\n",
    "        return random.randint(51, 100)\n",
    "    elif purchase == \"Fine Dining\":\n",
    "        return random.randint(101, 300)\n",
    "    elif purchase == \"Designer Clothes\":\n",
    "        return random.randint(200, 3000)\n",
    "    elif category == \"Utilities & Living\":\n",
    "        return random.randint(30, 150)\n",
    "    elif category == \"Health\":\n",
    "        return random.randint(5, 600)\n",
    "    elif category == \"Travel\":\n",
    "        return random.randint(20, 250)\n",
    "    elif category == \"Entertainment\":\n",
    "        return random.randint(30, 120)\n",
    "\n",
    "purchase = buildPurchase()\n",
    "print(purchase)\n",
    "category = buildCategory(purchase)\n",
    "print(category)\n",
    "print(buildPrice(purchase, category))"
   ]
  },
  {
   "cell_type": "code",
   "execution_count": 77,
   "metadata": {
    "tags": []
   },
   "outputs": [
    {
     "output_type": "stream",
     "name": "stdout",
     "text": [
      "1  purchases:  108\n2  purchases:  185\n3  purchases:  89\n4  purchases:  166\n5  purchases:  84\n6  purchases:  59\n7  purchases:  105\n8  purchases:  151\n9  purchases:  79\n10  purchases:  51\n11  purchases:  88\n12  purchases:  130\n12\n108\n"
     ]
    }
   ],
   "source": [
    "allYearPurchases = []\n",
    "\n",
    "# Populate monthly purchases\n",
    "for month in months:\n",
    "    # generate a random number of purchases for that month\n",
    "    numPurchases = random.randint(50, 200)\n",
    "    print(month, \" purchases: \", numPurchases)\n",
    "    monthlyPurchases = []\n",
    "    # generate purchases from 0 to numPurchases\n",
    "    for purchase in range(numPurchases):\n",
    "        # NOTE: This is where one whole row of data is created\n",
    "        purchase = buildPurchase()\n",
    "        category = buildCategory(purchase)\n",
    "        # TODO: buildPrice() which uses the category, and MAYBE the purchase?\n",
    "        price = buildPrice(purchase, category)\n",
    "\n",
    "        monthlyPurchases.append([buildDate(month), purchase, category, price])\n",
    "\n",
    "    # append the purchases for the current month into the one giant list for the year\n",
    "    allYearPurchases.append(monthlyPurchases)\n",
    "\n",
    "print(len(allYearPurchases))\n",
    "print(len(allYearPurchases[0]))\n",
    "\n",
    "\n",
    "\n",
    "\n",
    "    "
   ]
  },
  {
   "cell_type": "code",
   "execution_count": 78,
   "metadata": {},
   "outputs": [
    {
     "output_type": "execute_result",
     "data": {
      "text/plain": [
       "          Date                Purchase            Category  Price\n",
       "0   01/30/2021                EDM Show       Entertainment    100\n",
       "1   01/07/2021               Groceries  Utilities & Living    122\n",
       "2   01/05/2021                  Movies       Entertainment    119\n",
       "3   01/26/2021             Fine Dining              Dining    270\n",
       "4   01/25/2021      Recreational Drugs  Utilities & Living    139\n",
       "5   01/22/2021                EDM Show       Entertainment     94\n",
       "6   01/27/2021                EDM Show       Entertainment     86\n",
       "7   01/27/2021             Fine Dining              Dining    125\n",
       "8   01/05/2021        Designer Clothes            Shopping   2021\n",
       "9   01/30/2021              Eye Doctor              Health    507\n",
       "10  01/31/2021      Recreational Drugs  Utilities & Living    120\n",
       "11  01/25/2021        Designer Clothes            Shopping   2489\n",
       "12  01/18/2021               $ Clothes            Shopping      6\n",
       "13  01/02/2021             Motel Visit              Travel     30\n",
       "14  01/18/2021                     Bar       Entertainment     56\n",
       "15  01/04/2021                    Toys       Entertainment     92\n",
       "16  01/03/2021              Car Things  Utilities & Living    107\n",
       "17  01/03/2021           $$ Restaurant              Dining     50\n",
       "18  01/04/2021        Apartment Things  Utilities & Living    146\n",
       "19  01/14/2021              Hair Salon              Health    120\n",
       "20  01/30/2021              Car Rental              Travel     72\n",
       "21  01/15/2021               Groceries  Utilities & Living     71\n",
       "22  01/25/2021        Apartment Things  Utilities & Living    139\n",
       "23  01/25/2021          $$$ Restaurant              Dining     94\n",
       "24  01/25/2021            Plane Ticket              Travel    107\n",
       "25  01/07/2021        Apartment Things  Utilities & Living    142\n",
       "26  01/11/2021              Car Things  Utilities & Living     88\n",
       "27  01/07/2021      Recreational Drugs  Utilities & Living    149\n",
       "28  01/09/2021               Groceries  Utilities & Living     92\n",
       "29  01/25/2021                     Bar       Entertainment     35\n",
       "30  01/02/2021  Pharmacy Prescriptions              Health    394\n",
       "31  01/07/2021          $$$ Restaurant              Dining     63\n",
       "32  01/03/2021            $ Restaurant              Dining     22\n",
       "33  01/28/2021        Designer Clothes            Shopping   1655\n",
       "34  01/04/2021             Fine Dining              Dining    146\n",
       "35  01/31/2021           Other Concert       Entertainment     63\n",
       "36  01/01/2021            Plane Ticket              Travel    127\n",
       "37  01/07/2021           $$ Restaurant              Dining     33\n",
       "38  01/07/2021           $$ Restaurant              Dining     26\n",
       "39  01/19/2021              Eye Doctor              Health    540\n",
       "40  01/30/2021      Recreational Drugs  Utilities & Living     80\n",
       "41  01/03/2021              Car Things  Utilities & Living     67\n",
       "42  01/09/2021             Hotel Visit              Travel    219\n",
       "43  01/24/2021     Video Game Purchase       Entertainment     91\n",
       "44  01/15/2021            $ Restaurant              Dining      9\n",
       "45  01/06/2021                    Toys       Entertainment     81\n",
       "46  01/06/2021                EDM Show       Entertainment    111\n",
       "47  01/14/2021                     Gas              Travel     49\n",
       "48  01/15/2021             Hotel Visit              Travel     80\n",
       "49  01/29/2021  Pharmacy Prescriptions              Health    489"
      ],
      "text/html": "<div>\n<style scoped>\n    .dataframe tbody tr th:only-of-type {\n        vertical-align: middle;\n    }\n\n    .dataframe tbody tr th {\n        vertical-align: top;\n    }\n\n    .dataframe thead th {\n        text-align: right;\n    }\n</style>\n<table border=\"1\" class=\"dataframe\">\n  <thead>\n    <tr style=\"text-align: right;\">\n      <th></th>\n      <th>Date</th>\n      <th>Purchase</th>\n      <th>Category</th>\n      <th>Price</th>\n    </tr>\n  </thead>\n  <tbody>\n    <tr>\n      <th>0</th>\n      <td>01/30/2021</td>\n      <td>EDM Show</td>\n      <td>Entertainment</td>\n      <td>100</td>\n    </tr>\n    <tr>\n      <th>1</th>\n      <td>01/07/2021</td>\n      <td>Groceries</td>\n      <td>Utilities &amp; Living</td>\n      <td>122</td>\n    </tr>\n    <tr>\n      <th>2</th>\n      <td>01/05/2021</td>\n      <td>Movies</td>\n      <td>Entertainment</td>\n      <td>119</td>\n    </tr>\n    <tr>\n      <th>3</th>\n      <td>01/26/2021</td>\n      <td>Fine Dining</td>\n      <td>Dining</td>\n      <td>270</td>\n    </tr>\n    <tr>\n      <th>4</th>\n      <td>01/25/2021</td>\n      <td>Recreational Drugs</td>\n      <td>Utilities &amp; Living</td>\n      <td>139</td>\n    </tr>\n    <tr>\n      <th>5</th>\n      <td>01/22/2021</td>\n      <td>EDM Show</td>\n      <td>Entertainment</td>\n      <td>94</td>\n    </tr>\n    <tr>\n      <th>6</th>\n      <td>01/27/2021</td>\n      <td>EDM Show</td>\n      <td>Entertainment</td>\n      <td>86</td>\n    </tr>\n    <tr>\n      <th>7</th>\n      <td>01/27/2021</td>\n      <td>Fine Dining</td>\n      <td>Dining</td>\n      <td>125</td>\n    </tr>\n    <tr>\n      <th>8</th>\n      <td>01/05/2021</td>\n      <td>Designer Clothes</td>\n      <td>Shopping</td>\n      <td>2021</td>\n    </tr>\n    <tr>\n      <th>9</th>\n      <td>01/30/2021</td>\n      <td>Eye Doctor</td>\n      <td>Health</td>\n      <td>507</td>\n    </tr>\n    <tr>\n      <th>10</th>\n      <td>01/31/2021</td>\n      <td>Recreational Drugs</td>\n      <td>Utilities &amp; Living</td>\n      <td>120</td>\n    </tr>\n    <tr>\n      <th>11</th>\n      <td>01/25/2021</td>\n      <td>Designer Clothes</td>\n      <td>Shopping</td>\n      <td>2489</td>\n    </tr>\n    <tr>\n      <th>12</th>\n      <td>01/18/2021</td>\n      <td>$ Clothes</td>\n      <td>Shopping</td>\n      <td>6</td>\n    </tr>\n    <tr>\n      <th>13</th>\n      <td>01/02/2021</td>\n      <td>Motel Visit</td>\n      <td>Travel</td>\n      <td>30</td>\n    </tr>\n    <tr>\n      <th>14</th>\n      <td>01/18/2021</td>\n      <td>Bar</td>\n      <td>Entertainment</td>\n      <td>56</td>\n    </tr>\n    <tr>\n      <th>15</th>\n      <td>01/04/2021</td>\n      <td>Toys</td>\n      <td>Entertainment</td>\n      <td>92</td>\n    </tr>\n    <tr>\n      <th>16</th>\n      <td>01/03/2021</td>\n      <td>Car Things</td>\n      <td>Utilities &amp; Living</td>\n      <td>107</td>\n    </tr>\n    <tr>\n      <th>17</th>\n      <td>01/03/2021</td>\n      <td>$$ Restaurant</td>\n      <td>Dining</td>\n      <td>50</td>\n    </tr>\n    <tr>\n      <th>18</th>\n      <td>01/04/2021</td>\n      <td>Apartment Things</td>\n      <td>Utilities &amp; Living</td>\n      <td>146</td>\n    </tr>\n    <tr>\n      <th>19</th>\n      <td>01/14/2021</td>\n      <td>Hair Salon</td>\n      <td>Health</td>\n      <td>120</td>\n    </tr>\n    <tr>\n      <th>20</th>\n      <td>01/30/2021</td>\n      <td>Car Rental</td>\n      <td>Travel</td>\n      <td>72</td>\n    </tr>\n    <tr>\n      <th>21</th>\n      <td>01/15/2021</td>\n      <td>Groceries</td>\n      <td>Utilities &amp; Living</td>\n      <td>71</td>\n    </tr>\n    <tr>\n      <th>22</th>\n      <td>01/25/2021</td>\n      <td>Apartment Things</td>\n      <td>Utilities &amp; Living</td>\n      <td>139</td>\n    </tr>\n    <tr>\n      <th>23</th>\n      <td>01/25/2021</td>\n      <td>$$$ Restaurant</td>\n      <td>Dining</td>\n      <td>94</td>\n    </tr>\n    <tr>\n      <th>24</th>\n      <td>01/25/2021</td>\n      <td>Plane Ticket</td>\n      <td>Travel</td>\n      <td>107</td>\n    </tr>\n    <tr>\n      <th>25</th>\n      <td>01/07/2021</td>\n      <td>Apartment Things</td>\n      <td>Utilities &amp; Living</td>\n      <td>142</td>\n    </tr>\n    <tr>\n      <th>26</th>\n      <td>01/11/2021</td>\n      <td>Car Things</td>\n      <td>Utilities &amp; Living</td>\n      <td>88</td>\n    </tr>\n    <tr>\n      <th>27</th>\n      <td>01/07/2021</td>\n      <td>Recreational Drugs</td>\n      <td>Utilities &amp; Living</td>\n      <td>149</td>\n    </tr>\n    <tr>\n      <th>28</th>\n      <td>01/09/2021</td>\n      <td>Groceries</td>\n      <td>Utilities &amp; Living</td>\n      <td>92</td>\n    </tr>\n    <tr>\n      <th>29</th>\n      <td>01/25/2021</td>\n      <td>Bar</td>\n      <td>Entertainment</td>\n      <td>35</td>\n    </tr>\n    <tr>\n      <th>30</th>\n      <td>01/02/2021</td>\n      <td>Pharmacy Prescriptions</td>\n      <td>Health</td>\n      <td>394</td>\n    </tr>\n    <tr>\n      <th>31</th>\n      <td>01/07/2021</td>\n      <td>$$$ Restaurant</td>\n      <td>Dining</td>\n      <td>63</td>\n    </tr>\n    <tr>\n      <th>32</th>\n      <td>01/03/2021</td>\n      <td>$ Restaurant</td>\n      <td>Dining</td>\n      <td>22</td>\n    </tr>\n    <tr>\n      <th>33</th>\n      <td>01/28/2021</td>\n      <td>Designer Clothes</td>\n      <td>Shopping</td>\n      <td>1655</td>\n    </tr>\n    <tr>\n      <th>34</th>\n      <td>01/04/2021</td>\n      <td>Fine Dining</td>\n      <td>Dining</td>\n      <td>146</td>\n    </tr>\n    <tr>\n      <th>35</th>\n      <td>01/31/2021</td>\n      <td>Other Concert</td>\n      <td>Entertainment</td>\n      <td>63</td>\n    </tr>\n    <tr>\n      <th>36</th>\n      <td>01/01/2021</td>\n      <td>Plane Ticket</td>\n      <td>Travel</td>\n      <td>127</td>\n    </tr>\n    <tr>\n      <th>37</th>\n      <td>01/07/2021</td>\n      <td>$$ Restaurant</td>\n      <td>Dining</td>\n      <td>33</td>\n    </tr>\n    <tr>\n      <th>38</th>\n      <td>01/07/2021</td>\n      <td>$$ Restaurant</td>\n      <td>Dining</td>\n      <td>26</td>\n    </tr>\n    <tr>\n      <th>39</th>\n      <td>01/19/2021</td>\n      <td>Eye Doctor</td>\n      <td>Health</td>\n      <td>540</td>\n    </tr>\n    <tr>\n      <th>40</th>\n      <td>01/30/2021</td>\n      <td>Recreational Drugs</td>\n      <td>Utilities &amp; Living</td>\n      <td>80</td>\n    </tr>\n    <tr>\n      <th>41</th>\n      <td>01/03/2021</td>\n      <td>Car Things</td>\n      <td>Utilities &amp; Living</td>\n      <td>67</td>\n    </tr>\n    <tr>\n      <th>42</th>\n      <td>01/09/2021</td>\n      <td>Hotel Visit</td>\n      <td>Travel</td>\n      <td>219</td>\n    </tr>\n    <tr>\n      <th>43</th>\n      <td>01/24/2021</td>\n      <td>Video Game Purchase</td>\n      <td>Entertainment</td>\n      <td>91</td>\n    </tr>\n    <tr>\n      <th>44</th>\n      <td>01/15/2021</td>\n      <td>$ Restaurant</td>\n      <td>Dining</td>\n      <td>9</td>\n    </tr>\n    <tr>\n      <th>45</th>\n      <td>01/06/2021</td>\n      <td>Toys</td>\n      <td>Entertainment</td>\n      <td>81</td>\n    </tr>\n    <tr>\n      <th>46</th>\n      <td>01/06/2021</td>\n      <td>EDM Show</td>\n      <td>Entertainment</td>\n      <td>111</td>\n    </tr>\n    <tr>\n      <th>47</th>\n      <td>01/14/2021</td>\n      <td>Gas</td>\n      <td>Travel</td>\n      <td>49</td>\n    </tr>\n    <tr>\n      <th>48</th>\n      <td>01/15/2021</td>\n      <td>Hotel Visit</td>\n      <td>Travel</td>\n      <td>80</td>\n    </tr>\n    <tr>\n      <th>49</th>\n      <td>01/29/2021</td>\n      <td>Pharmacy Prescriptions</td>\n      <td>Health</td>\n      <td>489</td>\n    </tr>\n  </tbody>\n</table>\n</div>"
     },
     "metadata": {},
     "execution_count": 78
    }
   ],
   "source": [
    "flatten = [j for sub in allYearPurchases for j in sub]\n",
    "flatten_df = pd.DataFrame(flatten, columns = ['Date', 'Purchase', 'Category', 'Price'])\n",
    "flatten_df.head(50)"
   ]
  },
  {
   "cell_type": "code",
   "execution_count": null,
   "metadata": {},
   "outputs": [],
   "source": []
  },
  {
   "cell_type": "code",
   "execution_count": null,
   "metadata": {},
   "outputs": [],
   "source": []
  }
 ]
}