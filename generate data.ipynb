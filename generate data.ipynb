{
 "metadata": {
  "language_info": {
   "codemirror_mode": {
    "name": "ipython",
    "version": 3
   },
   "file_extension": ".py",
   "mimetype": "text/x-python",
   "name": "python",
   "nbconvert_exporter": "python",
   "pygments_lexer": "ipython3",
   "version": "3.8.2"
  },
  "orig_nbformat": 2,
  "kernelspec": {
   "name": "python3",
   "display_name": "Python 3.8.2 64-bit (conda)"
  },
  "interpreter": {
   "hash": "22d884786c17cd8b8732407e39d01d0f2488241cad937e735144e8152452878b"
  }
 },
 "nbformat": 4,
 "nbformat_minor": 2,
 "cells": [
  {
   "cell_type": "code",
   "execution_count": 1,
   "metadata": {},
   "outputs": [],
   "source": [
    "import random\n",
    "import numpy as np\n",
    "import pandas as pd\n",
    "from datetime import datetime\n",
    "\n",
    "# Utilities, groceries, service stations\n",
    "utilities = [\"Groceries\", \"Apartment Things\", \"Car Things\", \"Recreational Drugs\"]\n",
    "# Restaurants\n",
    "restaurants = [\"$ Restaurant\", \"$$ Restaurant\", \"$$$ Restaurant\", \"Fine Dining\"]\n",
    "# Shopping\n",
    "shopping = [\"$ Clothes\", \"$$ Clothes\", \"$$$ Clothes\", \"Designer Clothes\"]\n",
    "# Entertainment\n",
    "entertainment = [\"Bar\", \"EDM Show\", \"Other Concert\", \"Movies\", \"Video Game Purchase\", \"Toys\"]\n",
    "# Health\n",
    "health = [\"General Doctor\", \"Eye Doctor\", \"Pharmacy Prescriptions\", \"Nail Appt\", \"Hair Salon\"]\n",
    "# Travel\n",
    "travel = [\"Gas\", \"Plane Ticket\", \"Hotel Visit\", \"Motel Visit\", \"Car Rental\"]\n",
    "\n",
    "merchantTags = [utilities, restaurants, shopping, entertainment, health, travel]"
   ]
  },
  {
   "cell_type": "code",
   "execution_count": 2,
   "metadata": {},
   "outputs": [
    {
     "output_type": "stream",
     "name": "stdout",
     "text": [
      "12/03/2021\n[]\n"
     ]
    }
   ],
   "source": [
    "#          31,  28,  31,  30,  31,  30,  31,  31,  30,   31,   30,  31\n",
    "months = [\"1\", \"2\", \"3\", \"4\", \"5\", \"6\", \"7\", \"8\", \"9\", \"10\", \"11\", \"12\"]\n",
    "\n",
    "def buildDate(month):\n",
    "    feb = [*range(1, 29)]\n",
    "    thirtyDays = [*range(1, 31)]\n",
    "    thirtyOneDays = [*range(1, 32)]\n",
    "    retDay = 0\n",
    "\n",
    "    if(month == \"4\" or month == \"6\" or month == \"9\" or month == \"11\"):\n",
    "        retDay = random.choice(thirtyDays)\n",
    "    elif(month == \"2\"):\n",
    "        retDay = random.choice(feb)\n",
    "    else:\n",
    "        retDay = random.choice(thirtyOneDays)\n",
    "    \n",
    "    Str = month + \"/\" + str(retDay) + \"/2021\"  # build time string\n",
    "    dtObj = datetime.strptime(Str, \"%m/%d/%Y\")  # build datetime object to sort correctly\n",
    "    return dtObj.strftime(\"%m/%d/%Y\")\n",
    "\n",
    "\n",
    "# test = np.array([])\n",
    "# date = buildDate(\"12\")\n",
    "# print(date)\n",
    "# np.append(test, date)\n",
    "# print(test)\n",
    "\n",
    "# for i in range(20):\n",
    "#     month = random.choice(months)\n",
    "#     print(buildDate(month))\n"
   ]
  },
  {
   "cell_type": "code",
   "execution_count": 17,
   "metadata": {},
   "outputs": [
    {
     "output_type": "stream",
     "name": "stdout",
     "text": [
      "Tag:  ['General Doctor', 'Eye Doctor', 'Pharmacy Prescriptions', 'Nail Appt', 'Hair Salon']\nChoice:  General Doctor\n"
     ]
    }
   ],
   "source": [
    "def buildTag():\n",
    "    tag = random.choice(merchantTags)\n",
    "    \n",
    "    choice = random.choice(tag)\n",
    "    print(\"Choice: \", choice)\n",
    "\n",
    "buildTag()"
   ]
  },
  {
   "cell_type": "code",
   "execution_count": 3,
   "metadata": {
    "tags": []
   },
   "outputs": [
    {
     "output_type": "stream",
     "name": "stdout",
     "text": [
      "12\n167\n"
     ]
    }
   ],
   "source": [
    "allYearPurchases = []\n",
    "\n",
    "# Populate monthly purchases\n",
    "for month in months:\n",
    "    # generate a random number of purchases for that month\n",
    "    numPurchases = random.randint(50, 200)\n",
    "    monthlyPurchases = []\n",
    "    # generate purchases from 0 to numPurchases\n",
    "    for purchase in range(numPurchases):\n",
    "        monthlyPurchases.append(buildDate(month))\n",
    "        #monthlyPurchases.append(buildDate(month))\n",
    "\n",
    "    #monthlyPurchases.sort()\n",
    "    allYearPurchases.append(monthlyPurchases)\n",
    "\n",
    "print(len(allYearPurchases))\n",
    "print(len(allYearPurchases[0]))\n",
    "\n",
    "\n",
    "\n",
    "\n",
    "    "
   ]
  },
  {
   "cell_type": "code",
   "execution_count": 4,
   "metadata": {},
   "outputs": [
    {
     "output_type": "execute_result",
     "data": {
      "text/plain": [
       "          Date\n",
       "0   01/03/2021\n",
       "1   01/24/2021\n",
       "2   01/04/2021\n",
       "3   01/10/2021\n",
       "4   01/25/2021\n",
       "5   01/31/2021\n",
       "6   01/04/2021\n",
       "7   01/21/2021\n",
       "8   01/05/2021\n",
       "9   01/08/2021\n",
       "10  01/12/2021\n",
       "11  01/17/2021\n",
       "12  01/01/2021\n",
       "13  01/15/2021\n",
       "14  01/26/2021\n",
       "15  01/21/2021\n",
       "16  01/16/2021\n",
       "17  01/05/2021\n",
       "18  01/10/2021\n",
       "19  01/25/2021\n",
       "20  01/22/2021\n",
       "21  01/07/2021\n",
       "22  01/12/2021\n",
       "23  01/23/2021\n",
       "24  01/02/2021\n",
       "25  01/22/2021\n",
       "26  01/08/2021\n",
       "27  01/25/2021\n",
       "28  01/26/2021\n",
       "29  01/13/2021\n",
       "30  01/27/2021\n",
       "31  01/17/2021\n",
       "32  01/01/2021\n",
       "33  01/31/2021\n",
       "34  01/24/2021\n",
       "35  01/28/2021\n",
       "36  01/10/2021\n",
       "37  01/25/2021\n",
       "38  01/15/2021\n",
       "39  01/23/2021\n",
       "40  01/31/2021\n",
       "41  01/02/2021\n",
       "42  01/09/2021\n",
       "43  01/14/2021\n",
       "44  01/08/2021\n",
       "45  01/23/2021\n",
       "46  01/23/2021\n",
       "47  01/14/2021\n",
       "48  01/25/2021\n",
       "49  01/10/2021"
      ],
      "text/html": "<div>\n<style scoped>\n    .dataframe tbody tr th:only-of-type {\n        vertical-align: middle;\n    }\n\n    .dataframe tbody tr th {\n        vertical-align: top;\n    }\n\n    .dataframe thead th {\n        text-align: right;\n    }\n</style>\n<table border=\"1\" class=\"dataframe\">\n  <thead>\n    <tr style=\"text-align: right;\">\n      <th></th>\n      <th>Date</th>\n    </tr>\n  </thead>\n  <tbody>\n    <tr>\n      <th>0</th>\n      <td>01/03/2021</td>\n    </tr>\n    <tr>\n      <th>1</th>\n      <td>01/24/2021</td>\n    </tr>\n    <tr>\n      <th>2</th>\n      <td>01/04/2021</td>\n    </tr>\n    <tr>\n      <th>3</th>\n      <td>01/10/2021</td>\n    </tr>\n    <tr>\n      <th>4</th>\n      <td>01/25/2021</td>\n    </tr>\n    <tr>\n      <th>5</th>\n      <td>01/31/2021</td>\n    </tr>\n    <tr>\n      <th>6</th>\n      <td>01/04/2021</td>\n    </tr>\n    <tr>\n      <th>7</th>\n      <td>01/21/2021</td>\n    </tr>\n    <tr>\n      <th>8</th>\n      <td>01/05/2021</td>\n    </tr>\n    <tr>\n      <th>9</th>\n      <td>01/08/2021</td>\n    </tr>\n    <tr>\n      <th>10</th>\n      <td>01/12/2021</td>\n    </tr>\n    <tr>\n      <th>11</th>\n      <td>01/17/2021</td>\n    </tr>\n    <tr>\n      <th>12</th>\n      <td>01/01/2021</td>\n    </tr>\n    <tr>\n      <th>13</th>\n      <td>01/15/2021</td>\n    </tr>\n    <tr>\n      <th>14</th>\n      <td>01/26/2021</td>\n    </tr>\n    <tr>\n      <th>15</th>\n      <td>01/21/2021</td>\n    </tr>\n    <tr>\n      <th>16</th>\n      <td>01/16/2021</td>\n    </tr>\n    <tr>\n      <th>17</th>\n      <td>01/05/2021</td>\n    </tr>\n    <tr>\n      <th>18</th>\n      <td>01/10/2021</td>\n    </tr>\n    <tr>\n      <th>19</th>\n      <td>01/25/2021</td>\n    </tr>\n    <tr>\n      <th>20</th>\n      <td>01/22/2021</td>\n    </tr>\n    <tr>\n      <th>21</th>\n      <td>01/07/2021</td>\n    </tr>\n    <tr>\n      <th>22</th>\n      <td>01/12/2021</td>\n    </tr>\n    <tr>\n      <th>23</th>\n      <td>01/23/2021</td>\n    </tr>\n    <tr>\n      <th>24</th>\n      <td>01/02/2021</td>\n    </tr>\n    <tr>\n      <th>25</th>\n      <td>01/22/2021</td>\n    </tr>\n    <tr>\n      <th>26</th>\n      <td>01/08/2021</td>\n    </tr>\n    <tr>\n      <th>27</th>\n      <td>01/25/2021</td>\n    </tr>\n    <tr>\n      <th>28</th>\n      <td>01/26/2021</td>\n    </tr>\n    <tr>\n      <th>29</th>\n      <td>01/13/2021</td>\n    </tr>\n    <tr>\n      <th>30</th>\n      <td>01/27/2021</td>\n    </tr>\n    <tr>\n      <th>31</th>\n      <td>01/17/2021</td>\n    </tr>\n    <tr>\n      <th>32</th>\n      <td>01/01/2021</td>\n    </tr>\n    <tr>\n      <th>33</th>\n      <td>01/31/2021</td>\n    </tr>\n    <tr>\n      <th>34</th>\n      <td>01/24/2021</td>\n    </tr>\n    <tr>\n      <th>35</th>\n      <td>01/28/2021</td>\n    </tr>\n    <tr>\n      <th>36</th>\n      <td>01/10/2021</td>\n    </tr>\n    <tr>\n      <th>37</th>\n      <td>01/25/2021</td>\n    </tr>\n    <tr>\n      <th>38</th>\n      <td>01/15/2021</td>\n    </tr>\n    <tr>\n      <th>39</th>\n      <td>01/23/2021</td>\n    </tr>\n    <tr>\n      <th>40</th>\n      <td>01/31/2021</td>\n    </tr>\n    <tr>\n      <th>41</th>\n      <td>01/02/2021</td>\n    </tr>\n    <tr>\n      <th>42</th>\n      <td>01/09/2021</td>\n    </tr>\n    <tr>\n      <th>43</th>\n      <td>01/14/2021</td>\n    </tr>\n    <tr>\n      <th>44</th>\n      <td>01/08/2021</td>\n    </tr>\n    <tr>\n      <th>45</th>\n      <td>01/23/2021</td>\n    </tr>\n    <tr>\n      <th>46</th>\n      <td>01/23/2021</td>\n    </tr>\n    <tr>\n      <th>47</th>\n      <td>01/14/2021</td>\n    </tr>\n    <tr>\n      <th>48</th>\n      <td>01/25/2021</td>\n    </tr>\n    <tr>\n      <th>49</th>\n      <td>01/10/2021</td>\n    </tr>\n  </tbody>\n</table>\n</div>"
     },
     "metadata": {},
     "execution_count": 4
    }
   ],
   "source": [
    "flatten = [j for sub in allYearPurchases for j in sub]\n",
    "flatten_df = pd.DataFrame(flatten, columns = ['Date'])\n",
    "flatten_df.head(50)"
   ]
  },
  {
   "cell_type": "code",
   "execution_count": null,
   "metadata": {},
   "outputs": [],
   "source": []
  }
 ]
}